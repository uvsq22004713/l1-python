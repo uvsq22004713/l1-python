{
 "cells": [
  {
   "cell_type": "markdown",
   "metadata": {
    "slideshow": {
     "slide_type": "slide"
    }
   },
   "source": [
    "# Cours 4 : les fonctions en Python"
   ]
  },
  {
   "cell_type": "markdown",
   "metadata": {
    "slideshow": {
     "slide_type": "slide"
    }
   },
   "source": [
    "## 0. Écriture de programme\n",
    "\n",
    "Jusqu'à maintenant on a écrit seulement quelques lignes de Python avec évaluation\n",
    "immédiate de leur effet. Nous allons maintenant écrire des *scripts* ou *programmes*, qui sont plus long et dépendent éventuellement d'arguments fournis au lancement du programme.\n",
    "\n",
    "Pour cela, nous allons utiliser un éditeur de texte (VS Code) et un interpréteur Python (celui qui est lié à VS Code mais qui peut également être appelé depuis le terminal).\n",
    "\n",
    "**Démonstration des outils**"
   ]
  },
  {
   "cell_type": "markdown",
   "metadata": {
    "slideshow": {
     "slide_type": "notes"
    }
   },
   "source": [
    "Ici, faire une démo de l'écriture d'un programme dans VS Code avec exécution du programme.  \n",
    "Puis exécution du même programme avec le shell pour montrer qu'il se passe la même chose."
   ]
  },
  {
   "cell_type": "markdown",
   "metadata": {
    "slideshow": {
     "slide_type": "slide"
    }
   },
   "source": [
    "## 1. Utilité des fonctions en programmation\n",
    "\n",
    "\n",
    "Quand on écrit un code il est très fréquent d'utiliser la même fonctionnalité plusieurs fois. \n",
    "Quand ces fonctionnalités sont très communes, la librairie standard de Python ou des librairies externes vont vous fournir des fonctions déjà codées.\n",
    "\n",
    "\n",
    "Par ailleurs les fonctions permettent de découper le code en petites unités compréhensibles et indépendantes, ce qui le rend plus facile à comprendre et analyser.\n"
   ]
  },
  {
   "cell_type": "code",
   "execution_count": 1,
   "metadata": {
    "slideshow": {
     "slide_type": "subslide"
    }
   },
   "outputs": [
    {
     "output_type": "stream",
     "name": "stdout",
     "text": [
      "tbmvu\nsalut\n"
     ]
    }
   ],
   "source": [
    "#exemple de code pour lequel une fonction est utile car on l'appelle plusieurs fois\n",
    "\n",
    "def crypte(chaine, cle):\n",
    "    res = ''\n",
    "    for i in range(len(chaine)):\n",
    "        res += chr(ord(chaine[i]) + cle)\n",
    "    return res\n",
    "    \n",
    "message_crypte = crypte(input(),1)\n",
    "print(message_crypte)\n",
    "message_decrypte = crypte(message_crypte, -1)\n",
    "print(message_decrypte)\n"
   ]
  },
  {
   "cell_type": "markdown",
   "metadata": {
    "slideshow": {
     "slide_type": "subslide"
    }
   },
   "source": [
    "En mathématique une fonction s'écrit f: x $\\rightarrow$ f(x).\n",
    "Il y a trois parties dans la fonction: f son *nom*, x son *argument* et \n",
    "*f(x)* son image (valeur/résultat).\n",
    "\n",
    "Quelques exemples que vous connaissez bien:\n",
    "* $f(x) = ax + b$\n",
    "* $f(x) = x^2$\n",
    "* $f(x) = 2^x$\n",
    "* $f(x) = |x|$\n",
    "* $f(x,y) = x + y$\n",
    "\n",
    "\n",
    "C'est la même chose quand on programme, une fonction associe à un argument\n",
    "un résultat. L'argument et le résultat peuvent être arbitrairement complexes (des tuples ou des fonctions par exemple)."
   ]
  },
  {
   "cell_type": "markdown",
   "metadata": {
    "slideshow": {
     "slide_type": "notes"
    }
   },
   "source": [
    "On peut donner des exemples de fonction dans d'autres cadres qui ne sont pas des méthématiques.\n",
    "Par exemple en cuisine, on peut définir les fonctions couper(aliment), mélanger(aliment1, aliment2) et cuire(aliment), trois fonctions bien utiles pour écrire une recette (= programme)."
   ]
  },
  {
   "cell_type": "markdown",
   "metadata": {
    "slideshow": {
     "slide_type": "slide"
    }
   },
   "source": [
    "## 2. Définir une fonction en Python\n",
    "---\n",
    "Une fonction est introduite grâce au mot clé `def`. \n",
    "On indique son nom, puis sa liste d'arguments suivie de `:`.\n",
    "C'est la signature de la fonction.\n"
   ]
  },
  {
   "cell_type": "code",
   "execution_count": 3,
   "metadata": {
    "slideshow": {
     "slide_type": "fragment"
    }
   },
   "outputs": [],
   "source": [
    "def multiplie(x):\n",
    "    pass"
   ]
  },
  {
   "cell_type": "markdown",
   "metadata": {
    "slideshow": {
     "slide_type": "notes"
    }
   },
   "source": [
    "Tester le code précédent avec ou sans `pass`. Il faut que le corps de la fonction soit non-vide."
   ]
  },
  {
   "cell_type": "markdown",
   "metadata": {
    "slideshow": {
     "slide_type": "fragment"
    }
   },
   "source": [
    "Le corps de la fonction est un bloc de code indenté, qui vient après sa déclaration. \n",
    "Il peut être précédé d'un commentaire, appelé *docstring* qui sert à générer une documentation automatique."
   ]
  },
  {
   "cell_type": "code",
   "execution_count": 4,
   "metadata": {
    "slideshow": {
     "slide_type": "fragment"
    }
   },
   "outputs": [
    {
     "output_type": "stream",
     "name": "stdout",
     "text": [
      "14\naaaaaa\n"
     ]
    }
   ],
   "source": [
    "def multiplie(x):\n",
    "    \"\"\" Cette fonction multiplie l'entrée par 2 et l'affiche\"\"\"\n",
    "    print(x*2)\n",
    "\n",
    "multiplie(7)\n",
    "multiplie(\"aaa\")"
   ]
  },
  {
   "cell_type": "markdown",
   "metadata": {
    "slideshow": {
     "slide_type": "subslide"
    }
   },
   "source": [
    "Les fonctions retournent une valeur, celle donnée après le mot clé `return`.\n",
    "Même les fonctions qui n'ont pas d'instruction return, ou qui terminent en finissant d'exécuter le bloc de code\n",
    "sans atteindre un return, retournent la valeur `None`."
   ]
  },
  {
   "cell_type": "code",
   "execution_count": null,
   "metadata": {
    "slideshow": {
     "slide_type": "fragment"
    }
   },
   "outputs": [],
   "source": [
    "def avec_retour(x):\n",
    "    return x + 1\n",
    "\n",
    "def sans_retour(x):\n",
    "    x = x + 1\n",
    "    \n",
    "print(type(avec_retour(0)),avec_retour(0))\n",
    "print(type(sans_retour(0)),sans_retour(0))\n"
   ]
  },
  {
   "cell_type": "markdown",
   "metadata": {
    "slideshow": {
     "slide_type": "subslide"
    }
   },
   "source": [
    "En Python, on peut utiliser des types de retour complexes (contrairement à C par exemple).\n",
    "\n",
    "On peut par exemple renvoyer des tuples de valeurs, ce qui est souvent pratique."
   ]
  },
  {
   "cell_type": "code",
   "execution_count": 5,
   "metadata": {
    "slideshow": {
     "slide_type": "fragment"
    }
   },
   "outputs": [
    {
     "output_type": "execute_result",
     "data": {
      "text/plain": [
       "(5, 10)"
      ]
     },
     "metadata": {},
     "execution_count": 5
    }
   ],
   "source": [
    "def ordonne(a, b):\n",
    "    if a < b:\n",
    "        return a, b\n",
    "    else:\n",
    "        return b, a\n",
    "    \n",
    "ordonne(10, 5)"
   ]
  },
  {
   "cell_type": "markdown",
   "metadata": {
    "slideshow": {
     "slide_type": "slide"
    }
   },
   "source": [
    "## 3. Évaluation d'une fonction\n",
    "\n",
    "* les arguments sont des variables locales à la fonction\n",
    "* les arguments sont passés par valeur: la fonction utilise une référence sur l'objet donné en argument\n",
    "* le corps de la fonction est évalué comme un code normal et la fonction se termine soit à la fin du bloc de code, soit quand une instruction `return` est atteinte\n",
    "* la fonction peut appeler une autre fonction ou elle-même (récursivité)\n"
   ]
  },
  {
   "cell_type": "markdown",
   "metadata": {
    "slideshow": {
     "slide_type": "subslide"
    }
   },
   "source": [
    "On va illustrer l'appel d'une fonction en l'exécutant pas à pas grâce à:\n",
    "\n",
    "* [PythonTutor](http://pythontutor.com/visualize.html#mode=edit)\n",
    "* le debugger dans VS Code"
   ]
  },
  {
   "cell_type": "markdown",
   "metadata": {
    "slideshow": {
     "slide_type": "notes"
    }
   },
   "source": [
    "Tester une fonction écrite précédemment dans les deux contextes proposés."
   ]
  },
  {
   "cell_type": "markdown",
   "metadata": {
    "slideshow": {
     "slide_type": "subslide"
    }
   },
   "source": [
    "Les variables définies hors des fonctions sont globales et on peut les utiliser dans toutes les fonctions\n",
    "sauf si elles ont été redéfinies localement. \n",
    "\n",
    "Par contre on ne peut pas changer leur valeur à l'intérieur d'une fonction, sauf à spécifier dans la fonction\n",
    "que la variable est globale par le mot clé `global`.\n",
    " \n",
    "Il est *déconseillé* de faire usage de ce mot clé et des variables globales en général."
   ]
  },
  {
   "cell_type": "code",
   "execution_count": null,
   "metadata": {
    "slideshow": {
     "slide_type": "fragment"
    }
   },
   "outputs": [],
   "source": [
    "x = 1\n",
    "print(x)\n",
    "\n",
    "def affiche():\n",
    "    print(x)\n",
    "    \n",
    "x += 3\n",
    "affiche()\n",
    "\n",
    "#def ajoute():\n",
    "#    x += 1\n",
    "\n",
    "def multiplie():\n",
    "    global x\n",
    "    x *= 2\n",
    "    \n",
    "#ajoute()\n",
    "print(x)\n",
    "multiplie()\n",
    "print(x)"
   ]
  },
  {
   "cell_type": "markdown",
   "metadata": {
    "slideshow": {
     "slide_type": "slide"
    }
   },
   "source": [
    "## 4. Représentation des arguments dans un appel de fonction\n",
    "\n",
    "On peut donner des valeurs par défaut aux arguments d'une fonction\n",
    "de la manière suivante `def ma_fonction(pays, age = 1, nom = \"toto\")`.\n",
    "\n",
    "Les variables ayant une valeur par défaut peuvent être omises.\n",
    "\n"
   ]
  },
  {
   "cell_type": "code",
   "execution_count": null,
   "metadata": {
    "slideshow": {
     "slide_type": "fragment"
    }
   },
   "outputs": [],
   "source": [
    "def ma_fonction(pays, age = 1, nom = \"toto\"):\n",
    "    print(nom,\" a \", age, \"ans et vit en \", pays)\n",
    "    \n",
    "ma_fonction(\"france\")\n",
    "ma_fonction(\"allemagne\", 18, \"kurt\")\n",
    "ma_fonction(\"italie\", 77)"
   ]
  },
  {
   "cell_type": "markdown",
   "metadata": {
    "slideshow": {
     "slide_type": "subslide"
    }
   },
   "source": [
    "On peut également donner les arguments dans le désordre en spécifiant leur nom."
   ]
  },
  {
   "cell_type": "code",
   "execution_count": null,
   "metadata": {
    "slideshow": {
     "slide_type": "fragment"
    }
   },
   "outputs": [],
   "source": [
    "ma_fonction(nom = \"kader\", age = 18, pays = \"algérie\")\n",
    "ma_fonction(\"france\", nom = \"sylvie\")"
   ]
  },
  {
   "cell_type": "markdown",
   "metadata": {
    "slideshow": {
     "slide_type": "notes"
    }
   },
   "source": [
    "Il est possible d'utiliser une liste d'arguments de taille variable. Néanmoins,\n",
    "ce sujet plus avancé et optionnel ne sera pas abordé en première année. \n"
   ]
  },
  {
   "cell_type": "markdown",
   "metadata": {
    "slideshow": {
     "slide_type": "slide"
    }
   },
   "source": [
    "## 5. Fonctions anonymes: lambda expressions\n",
    "\n",
    "Parfois on définit une fonction pour l'utiliser tout de suite comme argument d'une autre fonction.\n",
    "Dans ce cas, il est inutile de donner un nom à la fonction car on l'utilisera une seule fois. On peut la définir en utilisant le mot clé lambda."
   ]
  },
  {
   "cell_type": "code",
   "execution_count": null,
   "metadata": {
    "slideshow": {
     "slide_type": "fragment"
    }
   },
   "outputs": [],
   "source": [
    "g = lambda x: x*2  \n",
    "print(g(2))\n",
    "\n",
    "print((lambda x: x*2)(3))\n",
    "\n",
    "list(map(lambda x: x*2,range(10)))"
   ]
  },
  {
   "cell_type": "code",
   "execution_count": null,
   "metadata": {},
   "outputs": [],
   "source": []
  }
 ],
 "metadata": {
  "celltoolbar": "Diaporama",
  "kernelspec": {
   "display_name": "Python 3",
   "language": "python",
   "name": "python3"
  },
  "language_info": {
   "codemirror_mode": {
    "name": "ipython",
    "version": 3
   },
   "file_extension": ".py",
   "mimetype": "text/x-python",
   "name": "python",
   "nbconvert_exporter": "python",
   "pygments_lexer": "ipython3",
   "version": "3.8.5-final"
  }
 },
 "nbformat": 4,
 "nbformat_minor": 1
}